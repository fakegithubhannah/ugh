{
 "cells": [
  {
   "cell_type": "code",
   "execution_count": 1,
   "id": "21de002e",
   "metadata": {},
   "outputs": [],
   "source": [
    "import numpy as np"
   ]
  },
  {
   "cell_type": "code",
   "execution_count": 2,
   "id": "5ff6d5ae",
   "metadata": {},
   "outputs": [],
   "source": [
    "for x in range(1001)\n",
    "print(x, end='')"
   ]
  },
  {
   "cell_type": "code",
   "execution_count": 3,
   "id": "24b91eb7",
   "metadata": {},
   "outputs": [],
   "source": [
    "for x in range(1001):\n",
    "print(x, end='')"
   ]
  },
  {
   "cell_type": "code",
   "execution_count": 4,
   "id": "3c2ecb0e",
   "metadata": {},
   "outputs": [],
   "source": [
    "for x in range(1001):\n",
    "    print(x, end=' ')"
   ]
  },
  {
   "cell_type": "code",
   "execution_count": 5,
   "id": "eab68a9d",
   "metadata": {},
   "outputs": [],
   "source": [
    "from math import sqrt"
   ]
  },
  {
   "cell_type": "code",
   "execution_count": 6,
   "id": "97f318e5",
   "metadata": {},
   "outputs": [],
   "source": [
    "### test"
   ]
  },
  {
   "cell_type": "code",
   "execution_count": 7,
   "id": "612e1fba",
   "metadata": {},
   "outputs": [],
   "source": [
    "import matplotlib.pyplot as plt"
   ]
  },
  {
   "cell_type": "code",
   "execution_count": 8,
   "id": "c16705e7",
   "metadata": {},
   "outputs": [],
   "source": [
    "x=range[1001]"
   ]
  },
  {
   "cell_type": "code",
   "execution_count": 9,
   "id": "8b7e0d2d",
   "metadata": {},
   "outputs": [],
   "source": [
    "for x in range(1001):\n",
    "    print(x, end=' ')"
   ]
  },
  {
   "cell_type": "code",
   "execution_count": 10,
   "id": "60dfedc0",
   "metadata": {},
   "outputs": [],
   "source": [
    "y=[2, 4, 6]"
   ]
  },
  {
   "cell_type": "code",
   "execution_count": 11,
   "id": "1e650fad",
   "metadata": {},
   "outputs": [],
   "source": [
    "plt.plot(x,y)"
   ]
  },
  {
   "cell_type": "code",
   "execution_count": 12,
   "id": "050a5aa6",
   "metadata": {},
   "outputs": [],
   "source": [
    "y=[2,4,6]"
   ]
  },
  {
   "cell_type": "code",
   "execution_count": 13,
   "id": "ea31ae7a",
   "metadata": {},
   "outputs": [],
   "source": [
    "z=[1,2,3]"
   ]
  },
  {
   "cell_type": "code",
   "execution_count": 14,
   "id": "a2d7f937",
   "metadata": {},
   "outputs": [],
   "source": [
    "plt.plot(z,y)"
   ]
  },
  {
   "cell_type": "code",
   "execution_count": 15,
   "id": "796b88b2",
   "metadata": {},
   "outputs": [],
   "source": [
    "import numpy as np"
   ]
  },
  {
   "cell_type": "code",
   "execution_count": 16,
   "id": "dd80936c",
   "metadata": {},
   "outputs": [],
   "source": [
    "x = np.linspace(0,1000)\n",
    "y = a * x ** 2 + b * x + c\n",
    "fig, ax =plt.subplots()\n",
    "ax.plot(x,y)\n",
    "plt.show()"
   ]
  },
  {
   "cell_type": "code",
   "execution_count": 17,
   "id": "3a1ab017",
   "metadata": {},
   "outputs": [],
   "source": [
    "y = x**2"
   ]
  },
  {
   "cell_type": "code",
   "execution_count": 18,
   "id": "9e93be8f",
   "metadata": {},
   "outputs": [],
   "source": [
    "x=np.linspace(0,1000)"
   ]
  },
  {
   "cell_type": "code",
   "execution_count": 19,
   "id": "a58edd93",
   "metadata": {},
   "outputs": [],
   "source": [
    "ax.plot(x,y)\n",
    "plot.show()"
   ]
  },
  {
   "cell_type": "code",
   "execution_count": 20,
   "id": "dcdc6e8d",
   "metadata": {},
   "outputs": [],
   "source": [
    "fig, ax=plot.subplots()\n",
    "ax.plot(x,y)\n",
    "plot.show()"
   ]
  },
  {
   "cell_type": "code",
   "execution_count": 21,
   "id": "50c02390",
   "metadata": {},
   "outputs": [],
   "source": [
    "import matplotlib.pyplot as plt"
   ]
  },
  {
   "cell_type": "code",
   "execution_count": 22,
   "id": "52cb5bd6",
   "metadata": {},
   "outputs": [],
   "source": [
    "plt.plot[x,y]"
   ]
  },
  {
   "cell_type": "code",
   "execution_count": 23,
   "id": "410c8103",
   "metadata": {},
   "outputs": [],
   "source": [
    "plt.plot(x,y)"
   ]
  },
  {
   "cell_type": "code",
   "execution_count": 24,
   "id": "a428c61d",
   "metadata": {},
   "outputs": [],
   "source": [
    "import numpy as np"
   ]
  },
  {
   "cell_type": "code",
   "execution_count": 25,
   "id": "2c711f9f",
   "metadata": {},
   "outputs": [],
   "source": [
    "import matplotlib.pyplot as plt"
   ]
  },
  {
   "cell_type": "code",
   "execution_count": 26,
   "id": "46813841",
   "metadata": {},
   "outputs": [],
   "source": [
    "y=n**2"
   ]
  },
  {
   "cell_type": "code",
   "execution_count": 27,
   "id": "359f60a9",
   "metadata": {},
   "outputs": [],
   "source": [
    "y=x**2"
   ]
  },
  {
   "cell_type": "code",
   "execution_count": 28,
   "id": "8aed6f53",
   "metadata": {},
   "outputs": [],
   "source": [
    "x=np.linspace(0,1000)"
   ]
  },
  {
   "cell_type": "code",
   "execution_count": 29,
   "id": "648ae3bc",
   "metadata": {},
   "outputs": [],
   "source": [
    "plt.plot(x,y)"
   ]
  },
  {
   "cell_type": "code",
   "execution_count": 30,
   "id": "c13d4c33",
   "metadata": {},
   "outputs": [],
   "source": [
    "x=np.linspace(0,1000)"
   ]
  },
  {
   "cell_type": "code",
   "execution_count": 31,
   "id": "265598a4",
   "metadata": {},
   "outputs": [],
   "source": [
    "x=np.linspace(0,1000)"
   ]
  },
  {
   "cell_type": "code",
   "execution_count": 32,
   "id": "118dcd36",
   "metadata": {},
   "outputs": [],
   "source": [
    "[Towards Data Science] (https://towardsdatascience.com/) "
   ]
  },
  {
   "cell_type": "code",
   "execution_count": 33,
   "id": "667fc8bb",
   "metadata": {},
   "outputs": [],
   "source": [
    "from math import sqrt"
   ]
  },
  {
   "cell_type": "code",
   "execution_count": 34,
   "id": "e4e1610d",
   "metadata": {},
   "outputs": [],
   "source": [
    "### test"
   ]
  },
  {
   "cell_type": "code",
   "execution_count": 35,
   "id": "f87008c7",
   "metadata": {},
   "outputs": [],
   "source": [
    "import matplotlib.pyplot as plt"
   ]
  },
  {
   "cell_type": "code",
   "execution_count": 36,
   "id": "093737f9",
   "metadata": {},
   "outputs": [],
   "source": [
    "x=range[1001]"
   ]
  },
  {
   "cell_type": "code",
   "execution_count": 37,
   "id": "9bfcef0e",
   "metadata": {},
   "outputs": [],
   "source": [
    "plt.plot(x,y)"
   ]
  },
  {
   "cell_type": "code",
   "execution_count": 38,
   "id": "9110bb70",
   "metadata": {},
   "outputs": [],
   "source": [
    "x=np.linspace(0,1000)"
   ]
  },
  {
   "cell_type": "code",
   "execution_count": 39,
   "id": "b6fb738b",
   "metadata": {},
   "outputs": [],
   "source": [
    "plt.show()"
   ]
  },
  {
   "cell_type": "code",
   "execution_count": 40,
   "id": "d86c6101",
   "metadata": {},
   "outputs": [],
   "source": [
    "plt.plot(x,y)"
   ]
  },
  {
   "cell_type": "code",
   "execution_count": 41,
   "id": "53800eff",
   "metadata": {},
   "outputs": [],
   "source": [
    "plt.plot(x,y)"
   ]
  },
  {
   "cell_type": "code",
   "execution_count": 42,
   "id": "a8747b43",
   "metadata": {},
   "outputs": [],
   "source": [
    "plt.set_xlabel(\"x\")\n",
    "plt.set_ylabel(\"x-squared\")\n",
    "plt.show\n",
    "plt.plot(x,y)"
   ]
  },
  {
   "cell_type": "code",
   "execution_count": 43,
   "id": "3dcb1b64",
   "metadata": {},
   "outputs": [],
   "source": [
    "ax.plot(x,y)"
   ]
  },
  {
   "cell_type": "code",
   "execution_count": 44,
   "id": "7965b0d9",
   "metadata": {},
   "outputs": [],
   "source": [
    "ax=fig.gca()"
   ]
  },
  {
   "cell_type": "code",
   "execution_count": 45,
   "id": "b6e8bdfd",
   "metadata": {},
   "outputs": [],
   "source": [
    "plt.xlabel(\"Days\")"
   ]
  },
  {
   "cell_type": "code",
   "execution_count": 46,
   "id": "c6fe41e1",
   "metadata": {},
   "outputs": [],
   "source": [
    "import numpy as np\n",
    "import matplotlib.pyplot as plt\n",
    "x=np.linspace(0,1000)\n",
    "y=x**2\n",
    "plt.xlabel(\"x \\n y=x**2\")\n",
    "plt.ylabel(\"x-squared\")\n",
    "plt.plot(x,y)"
   ]
  },
  {
   "cell_type": "code",
   "execution_count": 47,
   "id": "bc8cedfe",
   "metadata": {},
   "outputs": [],
   "source": [
    "import numpy as np\n",
    "import matplotlib.pyplot as plt\n",
    "x=np.linspace(0,1000)\n",
    "y=x**2\n",
    "plt.xlabel(\"x \\n y=x^2\")\n",
    "plt.ylabel(\"x-squared\")\n",
    "plt.plot(x,y)"
   ]
  },
  {
   "cell_type": "code",
   "execution_count": 48,
   "id": "24390bc0",
   "metadata": {},
   "outputs": [],
   "source": [
    "import numpy as np\n",
    "import matplotlib.pyplot as plt\n",
    "x=np.linspace(0,1000)\n",
    "y=x**2\n",
    "plt.xlabel(\"x\")\n",
    "plt.ylabel(\"x-squared\")\n",
    "plt.plot(x,y)"
   ]
  },
  {
   "cell_type": "code",
   "execution_count": 49,
   "id": "84390931",
   "metadata": {},
   "outputs": [],
   "source": [
    "# NOTE: Approximate \"star\" values for poetry and magenta"
   ]
  },
  {
   "cell_type": "code",
   "execution_count": 50,
   "id": "0e177a33",
   "metadata": {},
   "outputs": [],
   "source": [
    "# NOTE: Approximate \"star\" values for poetry and magenta were listed because Github does not show exact values above 5,000 stargazers."
   ]
  },
  {
   "cell_type": "code",
   "execution_count": 51,
   "id": "8796d271",
   "metadata": {},
   "outputs": [],
   "source": [
    "# NOTE: Approximate \"star\" values for poetry and magenta were listed because Github does not show exact values above 5,000 stargazers."
   ]
  },
  {
   "cell_type": "code",
   "execution_count": 52,
   "id": "c77aadfb",
   "metadata": {},
   "outputs": [],
   "source": [
    "import.os"
   ]
  },
  {
   "cell_type": "code",
   "execution_count": 53,
   "id": "480adb48",
   "metadata": {},
   "outputs": [],
   "source": [
    "import os"
   ]
  },
  {
   "cell_type": "code",
   "execution_count": 54,
   "id": "8ce855c7",
   "metadata": {},
   "outputs": [],
   "source": [
    "print(os.getcwd())"
   ]
  }
 ],
 "metadata": {
  "kernelspec": {
   "display_name": "Python 3 (ipykernel)",
   "language": "python",
   "name": "python3"
  },
  "language_info": {
   "codemirror_mode": {
    "name": "ipython",
    "version": 3
   },
   "file_extension": ".py",
   "mimetype": "text/x-python",
   "name": "python",
   "nbconvert_exporter": "python",
   "pygments_lexer": "ipython3",
   "version": "3.9.0"
  }
 },
 "nbformat": 4,
 "nbformat_minor": 5
}
