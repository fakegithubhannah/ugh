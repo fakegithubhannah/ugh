{
 "cells": [
  {
   "cell_type": "markdown",
   "id": "7312570a",
   "metadata": {},
   "source": [
    "# Question 1: Create a Jupyter Notebook"
   ]
  },
  {
   "cell_type": "markdown",
   "id": "a8c667f4",
   "metadata": {},
   "source": [
    "[Towards Data Science](https://towardsdatascience.com/ \"Towards Data Science\")"
   ]
  },
  {
   "cell_type": "markdown",
   "id": "dbda46ab",
   "metadata": {},
   "source![totjetbetk](Images/TOwards Data Science.png)
   ]
  },
  {
   "cell_type": "markdown",
   "id": "4764b2d6",
   "metadata": {},
   "source": [
    "# Question 2: Markdown Quote"
   ]
  },
  {
   "cell_type": "markdown",
   "id": "6786a155",
   "metadata": {},
   "source": [
    "> Nothing is impossible, the word itself says \"I'm possible\". _Audrey Hepburn_"
   ]
  },
  {
   "cell_type": "markdown",
   "id": "bbac8bbb",
   "metadata": {},
   "source": [
    "# Question 3: Latex Formula and Plot"
   ]
  },
  {
   "cell_type": "code",
   "execution_count": 5,
   "id": "1ed32fad",
   "metadata": {},
   "outputs": [
    {
     "data": {
      "text/plain": [
       "[<matplotlib.lines.Line2D at 0x20a1ebd8850>]"
      ]
     },
     "execution_count": 5,
     "metadata": {},
     "output_type": "execute_result"
    },
    {
     "data": {
      "image/png": "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\n",
      "text/plain": [
       "<Figure size 432x288 with 1 Axes>"
      ]
     },
     "metadata": {
      "needs_background": "light"
     },
     "output_type": "display_data"
    }
   ],
   "source": [
    "import numpy as np\n",
    "import matplotlib.pyplot as plt\n",
    "x = np.linspace(0,1000)\n",
    "y=x**2\n",
    "plt.xlabel (\"x\")\n",
    "plt.ylabel (\"x-squared\")\n",
    "plt.plot(x,y)"
   ]
  },
  {
   "cell_type": "markdown",
   "id": "b7f65291",
   "metadata": {},
   "source": [
    "$$ x^2 = y $$"
   ]
  },
  {
   "cell_type": "markdown",
   "id": "f1c97258",
   "metadata": {},
   "source": [
    "# Question 4: Markdown Table"
   ]
  },
  {
   "cell_type": "markdown",
   "id": "dd754225",
   "metadata": {},
   "source": [
    "|Package|Github Stars|\n",
    "|-------|------------|\n",
    "|biopython|2,850|\n",
    "|blaze|2,988|\n",
    "|pywin32|3,310|\n",
    "|poetry|~16,500|\n",
    "|magenta|~17,000|"
   ]
  },
  {
   "cell_type": "markdown",
   "id": "b56dcd79",
   "metadata": {},
   "source": [
    "NOTE: Approximate star values for poetry and magenta were listed because Github does not show exact values above 5,000 stargazers."
   ]
  },
  {
   "cell_type": "markdown",
   "id": "f6d664f9",
   "metadata": {},
   "source": [
    "# Question 5: Execute Shell Command"
   ]
  },
  {
   "cell_type": "code",
   "execution_count": 6,
   "id": "0419f20b",
   "metadata": {},
   "outputs": [
    {
     "name": "stdout",
     "output_type": "stream",
     "text": [
      "C:\\Users\\Hannah\\HW01\n"
     ]
    }
   ],
   "source": [
    "import os\n",
    "print(os.getcwd())"
   ]
  },
  {
   "cell_type": "markdown",
   "id": "88046211",
   "metadata": {},
   "source": [
    "# Question 6: Run Some External Script"
   ]
  },
  {
   "cell_type": "code",
   "execution_count": 15,
   "id": "fcc095ad",
   "metadata": {},
   "outputs": [],
   "source": [
    "file = open (\"C:\\Python\\HW01\\HW01_Q06.py\", \"r\")"
   ]
  },
  {
   "cell_type": "code",
   "execution_count": 16,
   "id": "1c901512",
   "metadata": {},
   "outputs": [
    {
     "name": "stdout",
     "output_type": "stream",
     "text": [
      "print ('The answer is 42.')\n",
      "\n"
     ]
    }
   ],
   "source": [
    "fileContent = file.read()\n",
    "print(fileContent)"
   ]
  }
 ],
 "metadata": {
  "kernelspec": {
   "display_name": "Python 3 (ipykernel)",
   "language": "python",
   "name": "python3"
  },
  "language_info": {
   "codemirror_mode": {
    "name": "ipython",
    "version": 3
   },
   "file_extension": ".py",
   "mimetype": "text/x-python",
   "name": "python",
   "nbconvert_exporter": "python",
   "pygments_lexer": "ipython3",
   "version": "3.9.0"
  }
 },
 "nbformat": 4,
 "nbformat_minor": 5
}
